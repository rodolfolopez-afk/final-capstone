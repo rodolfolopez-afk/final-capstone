{
 "cells": [
  {
   "cell_type": "code",
   "execution_count": 1,
   "id": "319ad9aa-f9c8-488f-a3dc-89866026deae",
   "metadata": {},
   "outputs": [],
   "source": [
    "import pandas as pd\n",
    "import streamlit as st\n",
    "from sklearn.feature_extraction.text import TfidfVectorizer\n",
    "from sklearn.metrics.pairwise import cosine_similarity"
   ]
  },
  {
   "cell_type": "code",
   "execution_count": 2,
   "id": "07b6fb4c-212a-4792-9782-c57e78e3e146",
   "metadata": {},
   "outputs": [
    {
     "name": "stderr",
     "output_type": "stream",
     "text": [
      "2025-09-15 19:16:02.472 WARNING streamlit.runtime.caching.cache_data_api: No runtime found, using MemoryCacheStorageManager\n",
      "2025-09-15 19:16:02.477 WARNING streamlit.runtime.caching.cache_data_api: No runtime found, using MemoryCacheStorageManager\n",
      "2025-09-15 19:16:02.480 WARNING streamlit.runtime.scriptrunner_utils.script_run_context: Thread 'MainThread': missing ScriptRunContext! This warning can be ignored when running in bare mode.\n",
      "2025-09-15 19:16:04.000 \n",
      "  \u001b[33m\u001b[1mWarning:\u001b[0m to view this Streamlit app on a browser, run it with the following\n",
      "  command:\n",
      "\n",
      "    streamlit run C:\\CoxApps\\Python312\\Lib\\site-packages\\ipykernel_launcher.py [ARGUMENTS]\n",
      "2025-09-15 19:16:04.002 Thread 'MainThread': missing ScriptRunContext! This warning can be ignored when running in bare mode.\n",
      "2025-09-15 19:16:04.004 Thread 'MainThread': missing ScriptRunContext! This warning can be ignored when running in bare mode.\n",
      "2025-09-15 19:16:04.006 Thread 'MainThread': missing ScriptRunContext! This warning can be ignored when running in bare mode.\n",
      "2025-09-15 19:16:04.043 Thread 'MainThread': missing ScriptRunContext! This warning can be ignored when running in bare mode.\n",
      "2025-09-15 19:16:04.045 Thread 'MainThread': missing ScriptRunContext! This warning can be ignored when running in bare mode.\n",
      "2025-09-15 19:16:04.047 Thread 'MainThread': missing ScriptRunContext! This warning can be ignored when running in bare mode.\n"
     ]
    }
   ],
   "source": [
    "# Load & prepare data\n",
    "@st.cache_data\n",
    "def load_csv(path=\"sales_data.csv\"):\n",
    "    df = pd.read_csv(path)\n",
    "    df[\"Date\"] = pd.to_datetime(df[\"Date\"], errors=\"coerce\")\n",
    "    df[\"_year\"] = df[\"Date\"].dt.year\n",
    "    df[\"_month\"] = df[\"Date\"].dt.month\n",
    "    df[\"_quarter\"] = df[\"Date\"].dt.quarter\n",
    "    return df\n",
    "\n",
    "df = load_csv()"
   ]
  },
  {
   "cell_type": "code",
   "execution_count": null,
   "id": "25a846b6-79bc-4385-98ef-07db0efaf210",
   "metadata": {},
   "outputs": [],
   "source": [
    "# Build corpus\n",
    "def build_corpus(df):\n",
    "    corpus = []\n",
    "    for c in df.select_dtypes(include=[\"number\"]).columns:\n",
    "        s = df[c].dropna()\n",
    "        if len(s) == 0:\n",
    "            continue\n",
    "        corpus.append(f\"{c}: sum={s.sum():.2f}, mean={s.mean():.2f}, median={s.median():.2f}, count={len(s)}\")\n",
    "    if \"_year\" in df.columns and \"Sales\" in df.columns:\n",
    "        yearly = df.groupby(\"_year\")[\"Sales\"].sum().reset_index()\n",
    "        for _, row in yearly.iterrows():\n",
    "            corpus.append(f\"Year {int(row['_year'])} Sales: sum={row['Sales']:.2f}\")\n",
    "    return corpus\n",
    "\n",
    "corpus = build_corpus(df)\n",
    "\n",
    "# Fit retriever\n",
    "vec = TfidfVectorizer().fit(corpus)\n",
    "mat = vec.transform(corpus)"
   ]
  },
  {
   "cell_type": "code",
   "execution_count": null,
   "id": "d18205b2-3467-4c02-87cb-0216d34a9bc9",
   "metadata": {},
   "outputs": [],
   "source": [
    "# Streamlit UI\n",
    "st.set_page_config(page_title=\"InsightForge BI Assistant\", layout=\"wide\")\n",
    "st.title(\"InsightForge — BI Assistant\")"
   ]
  },
  {
   "cell_type": "code",
   "execution_count": null,
   "id": "c6f8117f-0519-4f13-923b-ca04f8b90bdb",
   "metadata": {},
   "outputs": [],
   "source": [
    "# KPIs\n",
    "st.header(\"Key KPIs\")\n",
    "num_cols = df.select_dtypes(include=[\"number\"]).columns\n",
    "for col in num_cols:\n",
    "    s = df[col].dropna()\n",
    "    if len(s) > 0:\n",
    "        st.write(f\"**{col}** → sum={s.sum():,.2f}, mean={s.mean():.2f}, median={s.median():.2f}, std={s.std():.2f}\")"
   ]
  },
  {
   "cell_type": "code",
   "execution_count": null,
   "id": "b8dd7c7f-baee-45df-a948-bf616826b46c",
   "metadata": {},
   "outputs": [],
   "source": [
    "# Trends\n",
    "st.header(\"Sales Trends\")\n",
    "if \"_year\" in df.columns and \"Sales\" in df.columns:\n",
    "    gy = df.groupby(\"_year\")[\"Sales\"].sum().reset_index()\n",
    "    st.line_chart(gy, x=\"_year\", y=\"Sales\")\n",
    "\n",
    "if \"_month\" in df.columns and \"Sales\" in df.columns:\n",
    "    gm = df.groupby(\"_month\")[\"Sales\"].sum().reset_index()\n",
    "    st.bar_chart(gm, x=\"_month\", y=\"Sales\")"
   ]
  },
  {
   "cell_type": "code",
   "execution_count": null,
   "id": "af566030-b083-47f7-9b1c-cdd278e6e497",
   "metadata": {},
   "outputs": [],
   "source": [
    "# Q&A box\n",
    "st.header(\"Ask a Question about the Data\")\n",
    "q = st.text_input(\"Type a question, e.g., 'Which year had the highest sales?'\")\n",
    "if st.button(\"Ask\") and q.strip():\n",
    "    qv = vec.transform([q])\n",
    "    sims = cosine_similarity(qv, mat).flatten()\n",
    "    idx = sims.argsort()[::-1][:3]\n",
    "    facts = [corpus[i] for i in idx]\n",
    "\n",
    "    st.subheader(\"Answer\")\n",
    "    st.write(f\"Q: {q}\")\n",
    "    for f in facts:\n",
    "        st.write(\"-\", f)"
   ]
  }
 ],
 "metadata": {
  "kernelspec": {
   "display_name": "Python 3 (ipykernel)",
   "language": "python",
   "name": "python3"
  },
  "language_info": {
   "codemirror_mode": {
    "name": "ipython",
    "version": 3
   },
   "file_extension": ".py",
   "mimetype": "text/x-python",
   "name": "python",
   "nbconvert_exporter": "python",
   "pygments_lexer": "ipython3",
   "version": "3.12.3"
  }
 },
 "nbformat": 4,
 "nbformat_minor": 5
}
